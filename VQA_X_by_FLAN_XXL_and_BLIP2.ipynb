{
 "cells": [
  {
   "cell_type": "code",
   "execution_count": 1,
   "id": "d03c0b22",
   "metadata": {},
   "outputs": [
    {
     "name": "stdout",
     "output_type": "stream",
     "text": [
      "Defaulting to user installation because normal site-packages is not writeable\n",
      "Requirement already satisfied: transformers in /home/users/sdash/.local/lib/python3.8/site-packages (4.26.1)\n",
      "Requirement already satisfied: filelock in /home/users/sdash/.local/lib/python3.8/site-packages (from transformers) (3.12.2)\n",
      "Requirement already satisfied: huggingface-hub<1.0,>=0.11.0 in /home/users/sdash/.local/lib/python3.8/site-packages (from transformers) (0.16.2)\n",
      "Requirement already satisfied: numpy>=1.17 in /usr/local/lib/python3.8/dist-packages (from transformers) (1.24.2)\n",
      "Requirement already satisfied: packaging>=20.0 in /usr/local/lib/python3.8/dist-packages (from transformers) (21.3)\n",
      "Requirement already satisfied: pyyaml>=5.1 in /usr/local/lib/python3.8/dist-packages (from transformers) (6.0)\n",
      "Requirement already satisfied: regex!=2019.12.17 in /home/users/sdash/.local/lib/python3.8/site-packages (from transformers) (2023.6.3)\n",
      "Requirement already satisfied: requests in /usr/lib/python3/dist-packages (from transformers) (2.22.0)\n",
      "Requirement already satisfied: tokenizers!=0.11.3,<0.14,>=0.11.1 in /home/users/sdash/.local/lib/python3.8/site-packages (from transformers) (0.13.3)\n",
      "Requirement already satisfied: tqdm>=4.27 in /usr/local/lib/python3.8/dist-packages (from transformers) (4.65.0)\n",
      "Requirement already satisfied: fsspec in /usr/local/lib/python3.8/dist-packages (from huggingface-hub<1.0,>=0.11.0->transformers) (2023.3.0)\n",
      "Requirement already satisfied: typing-extensions>=3.7.4.3 in /home/users/sdash/.local/lib/python3.8/site-packages (from huggingface-hub<1.0,>=0.11.0->transformers) (4.7.1)\n",
      "Requirement already satisfied: pyparsing!=3.0.5,>=2.0.2 in /usr/local/lib/python3.8/dist-packages (from packaging>=20.0->transformers) (3.0.7)\n",
      "Defaulting to user installation because normal site-packages is not writeable\n",
      "Requirement already satisfied: sentencepiece in /home/users/sdash/.local/lib/python3.8/site-packages (0.1.99)\n",
      "Defaulting to user installation because normal site-packages is not writeable\n",
      "Requirement already satisfied: accelerate in /home/users/sdash/.local/lib/python3.8/site-packages (0.21.0)\n",
      "Requirement already satisfied: numpy>=1.17 in /usr/local/lib/python3.8/dist-packages (from accelerate) (1.24.2)\n",
      "Requirement already satisfied: packaging>=20.0 in /usr/local/lib/python3.8/dist-packages (from accelerate) (21.3)\n",
      "Requirement already satisfied: psutil in /home/users/sdash/.local/lib/python3.8/site-packages (from accelerate) (5.9.5)\n",
      "Requirement already satisfied: pyyaml in /usr/local/lib/python3.8/dist-packages (from accelerate) (6.0)\n",
      "Requirement already satisfied: torch>=1.10.0 in /usr/local/lib/python3.8/dist-packages (from accelerate) (1.13.1+cu116)\n",
      "Requirement already satisfied: pyparsing!=3.0.5,>=2.0.2 in /usr/local/lib/python3.8/dist-packages (from packaging>=20.0->accelerate) (3.0.7)\n",
      "Requirement already satisfied: typing-extensions in /home/users/sdash/.local/lib/python3.8/site-packages (from torch>=1.10.0->accelerate) (4.7.1)\n",
      "Defaulting to user installation because normal site-packages is not writeable\n",
      "Requirement already satisfied: salesforce-lavis in /home/users/sdash/.local/lib/python3.8/site-packages (1.0.2)\n",
      "Requirement already satisfied: contexttimer in /home/users/sdash/.local/lib/python3.8/site-packages (from salesforce-lavis) (0.3.3)\n",
      "Requirement already satisfied: decord in /home/users/sdash/.local/lib/python3.8/site-packages (from salesforce-lavis) (0.6.0)\n",
      "Requirement already satisfied: einops>=0.4.1 in /home/users/sdash/.local/lib/python3.8/site-packages (from salesforce-lavis) (0.6.1)\n",
      "Requirement already satisfied: fairscale==0.4.4 in /home/users/sdash/.local/lib/python3.8/site-packages (from salesforce-lavis) (0.4.4)\n",
      "Requirement already satisfied: ftfy in /home/users/sdash/.local/lib/python3.8/site-packages (from salesforce-lavis) (6.1.1)\n",
      "Requirement already satisfied: iopath in /home/users/sdash/.local/lib/python3.8/site-packages (from salesforce-lavis) (0.1.10)\n",
      "Requirement already satisfied: ipython in /usr/local/lib/python3.8/dist-packages (from salesforce-lavis) (8.0.1)\n",
      "Requirement already satisfied: omegaconf in /home/users/sdash/.local/lib/python3.8/site-packages (from salesforce-lavis) (2.3.0)\n",
      "Requirement already satisfied: opencv-python-headless==4.5.5.64 in /home/users/sdash/.local/lib/python3.8/site-packages (from salesforce-lavis) (4.5.5.64)\n",
      "Requirement already satisfied: opendatasets in /home/users/sdash/.local/lib/python3.8/site-packages (from salesforce-lavis) (0.1.22)\n",
      "Requirement already satisfied: packaging in /usr/local/lib/python3.8/dist-packages (from salesforce-lavis) (21.3)\n",
      "Requirement already satisfied: pandas in /usr/local/lib/python3.8/dist-packages (from salesforce-lavis) (1.5.3)\n",
      "Requirement already satisfied: plotly in /home/users/sdash/.local/lib/python3.8/site-packages (from salesforce-lavis) (5.15.0)\n",
      "Requirement already satisfied: pre-commit in /home/users/sdash/.local/lib/python3.8/site-packages (from salesforce-lavis) (3.3.3)\n",
      "Requirement already satisfied: pycocoevalcap in /home/users/sdash/.local/lib/python3.8/site-packages (from salesforce-lavis) (1.2)\n",
      "Requirement already satisfied: pycocotools in /home/users/sdash/.local/lib/python3.8/site-packages (from salesforce-lavis) (2.0.6)\n",
      "Requirement already satisfied: python-magic in /home/users/sdash/.local/lib/python3.8/site-packages (from salesforce-lavis) (0.4.27)\n",
      "Requirement already satisfied: scikit-image in /home/users/sdash/.local/lib/python3.8/site-packages (from salesforce-lavis) (0.21.0)\n",
      "Requirement already satisfied: sentencepiece in /home/users/sdash/.local/lib/python3.8/site-packages (from salesforce-lavis) (0.1.99)\n",
      "Requirement already satisfied: spacy in /home/users/sdash/.local/lib/python3.8/site-packages (from salesforce-lavis) (3.6.0)\n",
      "Requirement already satisfied: streamlit in /home/users/sdash/.local/lib/python3.8/site-packages (from salesforce-lavis) (1.25.0)\n",
      "Requirement already satisfied: timm==0.4.12 in /home/users/sdash/.local/lib/python3.8/site-packages (from salesforce-lavis) (0.4.12)\n",
      "Requirement already satisfied: torch>=1.10.0 in /usr/local/lib/python3.8/dist-packages (from salesforce-lavis) (1.13.1+cu116)\n",
      "Requirement already satisfied: torchvision in /usr/local/lib/python3.8/dist-packages (from salesforce-lavis) (0.14.1+cu116)\n",
      "Requirement already satisfied: tqdm in /usr/local/lib/python3.8/dist-packages (from salesforce-lavis) (4.65.0)\n",
      "Requirement already satisfied: transformers<4.27,>=4.25.0 in /home/users/sdash/.local/lib/python3.8/site-packages (from salesforce-lavis) (4.26.1)\n",
      "Requirement already satisfied: webdataset in /home/users/sdash/.local/lib/python3.8/site-packages (from salesforce-lavis) (0.2.48)\n",
      "Requirement already satisfied: wheel in /usr/lib/python3/dist-packages (from salesforce-lavis) (0.34.2)\n",
      "Requirement already satisfied: numpy>=1.14.5 in /usr/local/lib/python3.8/dist-packages (from opencv-python-headless==4.5.5.64->salesforce-lavis) (1.24.2)\n",
      "Requirement already satisfied: typing-extensions in /home/users/sdash/.local/lib/python3.8/site-packages (from torch>=1.10.0->salesforce-lavis) (4.7.1)\n",
      "Requirement already satisfied: filelock in /home/users/sdash/.local/lib/python3.8/site-packages (from transformers<4.27,>=4.25.0->salesforce-lavis) (3.12.2)\n",
      "Requirement already satisfied: huggingface-hub<1.0,>=0.11.0 in /home/users/sdash/.local/lib/python3.8/site-packages (from transformers<4.27,>=4.25.0->salesforce-lavis) (0.16.2)\n",
      "Requirement already satisfied: pyyaml>=5.1 in /usr/local/lib/python3.8/dist-packages (from transformers<4.27,>=4.25.0->salesforce-lavis) (6.0)\n",
      "Requirement already satisfied: regex!=2019.12.17 in /home/users/sdash/.local/lib/python3.8/site-packages (from transformers<4.27,>=4.25.0->salesforce-lavis) (2023.6.3)\n",
      "Requirement already satisfied: requests in /usr/lib/python3/dist-packages (from transformers<4.27,>=4.25.0->salesforce-lavis) (2.22.0)\n",
      "Requirement already satisfied: tokenizers!=0.11.3,<0.14,>=0.11.1 in /home/users/sdash/.local/lib/python3.8/site-packages (from transformers<4.27,>=4.25.0->salesforce-lavis) (0.13.3)\n",
      "Requirement already satisfied: pyparsing!=3.0.5,>=2.0.2 in /usr/local/lib/python3.8/dist-packages (from packaging->salesforce-lavis) (3.0.7)\n",
      "Requirement already satisfied: wcwidth>=0.2.5 in /usr/local/lib/python3.8/dist-packages (from ftfy->salesforce-lavis) (0.2.5)\n",
      "Requirement already satisfied: portalocker in /home/users/sdash/.local/lib/python3.8/site-packages (from iopath->salesforce-lavis) (2.7.0)\n"
     ]
    },
    {
     "name": "stdout",
     "output_type": "stream",
     "text": [
      "Requirement already satisfied: setuptools>=18.5 in /usr/local/lib/python3.8/dist-packages (from ipython->salesforce-lavis) (67.6.0)\n",
      "Requirement already satisfied: jedi>=0.16 in /usr/local/lib/python3.8/dist-packages (from ipython->salesforce-lavis) (0.18.1)\n",
      "Requirement already satisfied: black in /usr/local/lib/python3.8/dist-packages (from ipython->salesforce-lavis) (21.12b0)\n",
      "Requirement already satisfied: decorator in /usr/local/lib/python3.8/dist-packages (from ipython->salesforce-lavis) (5.1.1)\n",
      "Requirement already satisfied: pickleshare in /usr/local/lib/python3.8/dist-packages (from ipython->salesforce-lavis) (0.7.5)\n",
      "Requirement already satisfied: traitlets>=5 in /usr/local/lib/python3.8/dist-packages (from ipython->salesforce-lavis) (5.1.1)\n",
      "Requirement already satisfied: prompt-toolkit!=3.0.0,!=3.0.1,<3.1.0,>=2.0.0 in /usr/local/lib/python3.8/dist-packages (from ipython->salesforce-lavis) (3.0.24)\n",
      "Requirement already satisfied: pygments in /home/users/sdash/.local/lib/python3.8/site-packages (from ipython->salesforce-lavis) (2.15.1)\n",
      "Requirement already satisfied: backcall in /usr/local/lib/python3.8/dist-packages (from ipython->salesforce-lavis) (0.2.0)\n",
      "Requirement already satisfied: stack-data in /usr/local/lib/python3.8/dist-packages (from ipython->salesforce-lavis) (0.1.4)\n",
      "Requirement already satisfied: matplotlib-inline in /usr/local/lib/python3.8/dist-packages (from ipython->salesforce-lavis) (0.1.3)\n",
      "Requirement already satisfied: pexpect>4.3 in /usr/local/lib/python3.8/dist-packages (from ipython->salesforce-lavis) (4.8.0)\n",
      "Requirement already satisfied: antlr4-python3-runtime==4.9.* in /home/users/sdash/.local/lib/python3.8/site-packages (from omegaconf->salesforce-lavis) (4.9.3)\n",
      "Requirement already satisfied: kaggle in /home/users/sdash/.local/lib/python3.8/site-packages (from opendatasets->salesforce-lavis) (1.5.16)\n",
      "Requirement already satisfied: click in /usr/local/lib/python3.8/dist-packages (from opendatasets->salesforce-lavis) (8.0.3)\n",
      "Requirement already satisfied: python-dateutil>=2.8.1 in /usr/local/lib/python3.8/dist-packages (from pandas->salesforce-lavis) (2.8.2)\n",
      "Requirement already satisfied: pytz>=2020.1 in /usr/local/lib/python3.8/dist-packages (from pandas->salesforce-lavis) (2022.7.1)\n",
      "Requirement already satisfied: tenacity>=6.2.0 in /home/users/sdash/.local/lib/python3.8/site-packages (from plotly->salesforce-lavis) (8.2.2)\n",
      "Requirement already satisfied: cfgv>=2.0.0 in /home/users/sdash/.local/lib/python3.8/site-packages (from pre-commit->salesforce-lavis) (3.3.1)\n",
      "Requirement already satisfied: identify>=1.0.0 in /home/users/sdash/.local/lib/python3.8/site-packages (from pre-commit->salesforce-lavis) (2.5.25)\n",
      "Requirement already satisfied: nodeenv>=0.11.1 in /home/users/sdash/.local/lib/python3.8/site-packages (from pre-commit->salesforce-lavis) (1.8.0)\n",
      "Requirement already satisfied: virtualenv>=20.10.0 in /home/users/sdash/.local/lib/python3.8/site-packages (from pre-commit->salesforce-lavis) (20.24.1)\n",
      "Requirement already satisfied: matplotlib>=2.1.0 in /usr/local/lib/python3.8/dist-packages (from pycocotools->salesforce-lavis) (3.7.1)\n",
      "Requirement already satisfied: scipy>=1.8 in /usr/local/lib/python3.8/dist-packages (from scikit-image->salesforce-lavis) (1.10.1)\n",
      "Requirement already satisfied: networkx>=2.8 in /home/users/sdash/.local/lib/python3.8/site-packages (from scikit-image->salesforce-lavis) (3.1)\n",
      "Requirement already satisfied: pillow>=9.0.1 in /usr/local/lib/python3.8/dist-packages (from scikit-image->salesforce-lavis) (9.4.0)\n",
      "Requirement already satisfied: imageio>=2.27 in /home/users/sdash/.local/lib/python3.8/site-packages (from scikit-image->salesforce-lavis) (2.31.1)\n",
      "Requirement already satisfied: tifffile>=2022.8.12 in /home/users/sdash/.local/lib/python3.8/site-packages (from scikit-image->salesforce-lavis) (2023.7.10)\n",
      "Requirement already satisfied: PyWavelets>=1.1.1 in /home/users/sdash/.local/lib/python3.8/site-packages (from scikit-image->salesforce-lavis) (1.4.1)\n",
      "Requirement already satisfied: lazy_loader>=0.2 in /home/users/sdash/.local/lib/python3.8/site-packages (from scikit-image->salesforce-lavis) (0.3)\n",
      "Requirement already satisfied: spacy-legacy<3.1.0,>=3.0.11 in /home/users/sdash/.local/lib/python3.8/site-packages (from spacy->salesforce-lavis) (3.0.12)\n",
      "Requirement already satisfied: spacy-loggers<2.0.0,>=1.0.0 in /home/users/sdash/.local/lib/python3.8/site-packages (from spacy->salesforce-lavis) (1.0.4)\n",
      "Requirement already satisfied: murmurhash<1.1.0,>=0.28.0 in /home/users/sdash/.local/lib/python3.8/site-packages (from spacy->salesforce-lavis) (1.0.9)\n",
      "Requirement already satisfied: cymem<2.1.0,>=2.0.2 in /home/users/sdash/.local/lib/python3.8/site-packages (from spacy->salesforce-lavis) (2.0.7)\n",
      "Requirement already satisfied: preshed<3.1.0,>=3.0.2 in /home/users/sdash/.local/lib/python3.8/site-packages (from spacy->salesforce-lavis) (3.0.8)\n",
      "Requirement already satisfied: thinc<8.2.0,>=8.1.8 in /home/users/sdash/.local/lib/python3.8/site-packages (from spacy->salesforce-lavis) (8.1.10)\n",
      "Requirement already satisfied: wasabi<1.2.0,>=0.9.1 in /home/users/sdash/.local/lib/python3.8/site-packages (from spacy->salesforce-lavis) (1.1.2)\n",
      "Requirement already satisfied: srsly<3.0.0,>=2.4.3 in /home/users/sdash/.local/lib/python3.8/site-packages (from spacy->salesforce-lavis) (2.4.7)\n",
      "Requirement already satisfied: catalogue<2.1.0,>=2.0.6 in /home/users/sdash/.local/lib/python3.8/site-packages (from spacy->salesforce-lavis) (2.0.8)\n",
      "Requirement already satisfied: typer<0.10.0,>=0.3.0 in /home/users/sdash/.local/lib/python3.8/site-packages (from spacy->salesforce-lavis) (0.9.0)\n",
      "Requirement already satisfied: pathy>=0.10.0 in /home/users/sdash/.local/lib/python3.8/site-packages (from spacy->salesforce-lavis) (0.10.2)\n",
      "Requirement already satisfied: smart-open<7.0.0,>=5.2.1 in /home/users/sdash/.local/lib/python3.8/site-packages (from spacy->salesforce-lavis) (6.3.0)\n",
      "Requirement already satisfied: pydantic!=1.8,!=1.8.1,<1.11.0,>=1.7.4 in /home/users/sdash/.local/lib/python3.8/site-packages (from spacy->salesforce-lavis) (1.10.11)\n",
      "Requirement already satisfied: jinja2 in /usr/local/lib/python3.8/dist-packages (from spacy->salesforce-lavis) (3.0.3)\n",
      "Requirement already satisfied: langcodes<4.0.0,>=3.2.0 in /home/users/sdash/.local/lib/python3.8/site-packages (from spacy->salesforce-lavis) (3.3.0)\n",
      "Requirement already satisfied: altair<6,>=4.0 in /home/users/sdash/.local/lib/python3.8/site-packages (from streamlit->salesforce-lavis) (5.0.1)\n",
      "Requirement already satisfied: blinker<2,>=1.0.0 in /home/users/sdash/.local/lib/python3.8/site-packages (from streamlit->salesforce-lavis) (1.6.2)\n",
      "Requirement already satisfied: cachetools<6,>=4.0 in /usr/local/lib/python3.8/dist-packages (from streamlit->salesforce-lavis) (5.3.0)\n",
      "Requirement already satisfied: importlib-metadata<7,>=1.4 in /usr/local/lib/python3.8/dist-packages (from streamlit->salesforce-lavis) (4.10.1)\n",
      "Requirement already satisfied: protobuf<5,>=3.20 in /usr/local/lib/python3.8/dist-packages (from streamlit->salesforce-lavis) (3.20.3)\n",
      "Requirement already satisfied: pyarrow>=6.0 in /home/users/sdash/.local/lib/python3.8/site-packages (from streamlit->salesforce-lavis) (12.0.1)\n",
      "Requirement already satisfied: pympler<2,>=0.9 in /home/users/sdash/.local/lib/python3.8/site-packages (from streamlit->salesforce-lavis) (1.0.1)\n",
      "Requirement already satisfied: rich<14,>=10.14.0 in /home/users/sdash/.local/lib/python3.8/site-packages (from streamlit->salesforce-lavis) (13.4.2)\n",
      "Requirement already satisfied: toml<2,>=0.10.1 in /home/users/sdash/.local/lib/python3.8/site-packages (from streamlit->salesforce-lavis) (0.10.2)\n",
      "Requirement already satisfied: tzlocal<5,>=1.1 in /home/users/sdash/.local/lib/python3.8/site-packages (from streamlit->salesforce-lavis) (4.3.1)\n",
      "Requirement already satisfied: validators<1,>=0.2 in /home/users/sdash/.local/lib/python3.8/site-packages (from streamlit->salesforce-lavis) (0.20.0)\n",
      "Requirement already satisfied: gitpython!=3.1.19,<4,>=3.0.7 in /home/users/sdash/.local/lib/python3.8/site-packages (from streamlit->salesforce-lavis) (3.1.32)\n",
      "Requirement already satisfied: pydeck<1,>=0.8 in /home/users/sdash/.local/lib/python3.8/site-packages (from streamlit->salesforce-lavis) (0.8.0)\n",
      "Requirement already satisfied: tornado<7,>=6.0.3 in /usr/local/lib/python3.8/dist-packages (from streamlit->salesforce-lavis) (6.1)\n",
      "Requirement already satisfied: watchdog>=2.1.5 in /home/users/sdash/.local/lib/python3.8/site-packages (from streamlit->salesforce-lavis) (3.0.0)\n",
      "Requirement already satisfied: braceexpand in /home/users/sdash/.local/lib/python3.8/site-packages (from webdataset->salesforce-lavis) (0.1.7)\n"
     ]
    },
    {
     "name": "stdout",
     "output_type": "stream",
     "text": [
      "Requirement already satisfied: jsonschema>=3.0 in /usr/local/lib/python3.8/dist-packages (from altair<6,>=4.0->streamlit->salesforce-lavis) (4.4.0)\n",
      "Requirement already satisfied: toolz in /home/users/sdash/.local/lib/python3.8/site-packages (from altair<6,>=4.0->streamlit->salesforce-lavis) (0.12.0)\n",
      "Requirement already satisfied: gitdb<5,>=4.0.1 in /home/users/sdash/.local/lib/python3.8/site-packages (from gitpython!=3.1.19,<4,>=3.0.7->streamlit->salesforce-lavis) (4.0.10)\n",
      "Requirement already satisfied: fsspec in /usr/local/lib/python3.8/dist-packages (from huggingface-hub<1.0,>=0.11.0->transformers<4.27,>=4.25.0->salesforce-lavis) (2023.3.0)\n",
      "Requirement already satisfied: zipp>=0.5 in /usr/local/lib/python3.8/dist-packages (from importlib-metadata<7,>=1.4->streamlit->salesforce-lavis) (3.7.0)\n",
      "Requirement already satisfied: parso<0.9.0,>=0.8.0 in /usr/local/lib/python3.8/dist-packages (from jedi>=0.16->ipython->salesforce-lavis) (0.8.3)\n",
      "Requirement already satisfied: contourpy>=1.0.1 in /usr/local/lib/python3.8/dist-packages (from matplotlib>=2.1.0->pycocotools->salesforce-lavis) (1.0.7)\n",
      "Requirement already satisfied: cycler>=0.10 in /usr/local/lib/python3.8/dist-packages (from matplotlib>=2.1.0->pycocotools->salesforce-lavis) (0.11.0)\n",
      "Requirement already satisfied: fonttools>=4.22.0 in /usr/local/lib/python3.8/dist-packages (from matplotlib>=2.1.0->pycocotools->salesforce-lavis) (4.39.0)\n",
      "Requirement already satisfied: kiwisolver>=1.0.1 in /usr/local/lib/python3.8/dist-packages (from matplotlib>=2.1.0->pycocotools->salesforce-lavis) (1.4.4)\n",
      "Requirement already satisfied: importlib-resources>=3.2.0 in /usr/local/lib/python3.8/dist-packages (from matplotlib>=2.1.0->pycocotools->salesforce-lavis) (5.4.0)\n",
      "Requirement already satisfied: ptyprocess>=0.5 in /usr/local/lib/python3.8/dist-packages (from pexpect>4.3->ipython->salesforce-lavis) (0.7.0)\n",
      "Requirement already satisfied: MarkupSafe>=2.0 in /usr/local/lib/python3.8/dist-packages (from jinja2->spacy->salesforce-lavis) (2.1.2)\n",
      "Requirement already satisfied: six>=1.5 in /usr/lib/python3/dist-packages (from python-dateutil>=2.8.1->pandas->salesforce-lavis) (1.14.0)\n",
      "Requirement already satisfied: markdown-it-py>=2.2.0 in /home/users/sdash/.local/lib/python3.8/site-packages (from rich<14,>=10.14.0->streamlit->salesforce-lavis) (3.0.0)\n",
      "Requirement already satisfied: blis<0.8.0,>=0.7.8 in /home/users/sdash/.local/lib/python3.8/site-packages (from thinc<8.2.0,>=8.1.8->spacy->salesforce-lavis) (0.7.10)\n",
      "Requirement already satisfied: confection<1.0.0,>=0.0.1 in /home/users/sdash/.local/lib/python3.8/site-packages (from thinc<8.2.0,>=8.1.8->spacy->salesforce-lavis) (0.1.0)\n",
      "Requirement already satisfied: pytz-deprecation-shim in /home/users/sdash/.local/lib/python3.8/site-packages (from tzlocal<5,>=1.1->streamlit->salesforce-lavis) (0.1.0.post0)\n",
      "Requirement already satisfied: backports.zoneinfo in /home/users/sdash/.local/lib/python3.8/site-packages (from tzlocal<5,>=1.1->streamlit->salesforce-lavis) (0.2.1)\n",
      "Requirement already satisfied: distlib<1,>=0.3.6 in /home/users/sdash/.local/lib/python3.8/site-packages (from virtualenv>=20.10.0->pre-commit->salesforce-lavis) (0.3.7)\n",
      "Requirement already satisfied: platformdirs<4,>=3.5.1 in /home/users/sdash/.local/lib/python3.8/site-packages (from virtualenv>=20.10.0->pre-commit->salesforce-lavis) (3.9.1)\n",
      "Requirement already satisfied: tomli<2.0.0,>=0.2.6 in /usr/local/lib/python3.8/dist-packages (from black->ipython->salesforce-lavis) (1.2.3)\n",
      "Requirement already satisfied: pathspec<1,>=0.9.0 in /usr/local/lib/python3.8/dist-packages (from black->ipython->salesforce-lavis) (0.9.0)\n",
      "Requirement already satisfied: mypy-extensions>=0.4.3 in /usr/local/lib/python3.8/dist-packages (from black->ipython->salesforce-lavis) (0.4.3)\n",
      "Requirement already satisfied: certifi in /usr/lib/python3/dist-packages (from kaggle->opendatasets->salesforce-lavis) (2019.11.28)\n",
      "Requirement already satisfied: python-slugify in /home/users/sdash/.local/lib/python3.8/site-packages (from kaggle->opendatasets->salesforce-lavis) (8.0.1)\n",
      "Requirement already satisfied: urllib3 in /home/users/sdash/.local/lib/python3.8/site-packages (from kaggle->opendatasets->salesforce-lavis) (2.0.4)\n",
      "Requirement already satisfied: bleach in /usr/local/lib/python3.8/dist-packages (from kaggle->opendatasets->salesforce-lavis) (4.1.0)\n",
      "Requirement already satisfied: executing in /usr/local/lib/python3.8/dist-packages (from stack-data->ipython->salesforce-lavis) (0.8.2)\n",
      "Requirement already satisfied: asttokens in /usr/local/lib/python3.8/dist-packages (from stack-data->ipython->salesforce-lavis) (2.0.5)\n",
      "Requirement already satisfied: pure-eval in /usr/local/lib/python3.8/dist-packages (from stack-data->ipython->salesforce-lavis) (0.2.2)\n",
      "Requirement already satisfied: smmap<6,>=3.0.1 in /home/users/sdash/.local/lib/python3.8/site-packages (from gitdb<5,>=4.0.1->gitpython!=3.1.19,<4,>=3.0.7->streamlit->salesforce-lavis) (5.0.0)\n",
      "Requirement already satisfied: attrs>=17.4.0 in /usr/local/lib/python3.8/dist-packages (from jsonschema>=3.0->altair<6,>=4.0->streamlit->salesforce-lavis) (21.4.0)\n",
      "Requirement already satisfied: pyrsistent!=0.17.0,!=0.17.1,!=0.17.2,>=0.14.0 in /usr/local/lib/python3.8/dist-packages (from jsonschema>=3.0->altair<6,>=4.0->streamlit->salesforce-lavis) (0.18.1)\n",
      "Requirement already satisfied: mdurl~=0.1 in /home/users/sdash/.local/lib/python3.8/site-packages (from markdown-it-py>=2.2.0->rich<14,>=10.14.0->streamlit->salesforce-lavis) (0.1.2)\n",
      "Requirement already satisfied: webencodings in /usr/local/lib/python3.8/dist-packages (from bleach->kaggle->opendatasets->salesforce-lavis) (0.5.1)\n",
      "Requirement already satisfied: text-unidecode>=1.3 in /home/users/sdash/.local/lib/python3.8/site-packages (from python-slugify->kaggle->opendatasets->salesforce-lavis) (1.3)\n",
      "Requirement already satisfied: tzdata in /home/users/sdash/.local/lib/python3.8/site-packages (from pytz-deprecation-shim->tzlocal<5,>=1.1->streamlit->salesforce-lavis) (2023.3)\n",
      "Defaulting to user installation because normal site-packages is not writeable\n",
      "Requirement already satisfied: datasets in /home/users/sdash/.local/lib/python3.8/site-packages (2.13.1)\n",
      "Requirement already satisfied: numpy>=1.17 in /usr/local/lib/python3.8/dist-packages (from datasets) (1.24.2)\n",
      "Requirement already satisfied: pyarrow>=8.0.0 in /home/users/sdash/.local/lib/python3.8/site-packages (from datasets) (12.0.1)\n",
      "Requirement already satisfied: dill<0.3.7,>=0.3.0 in /home/users/sdash/.local/lib/python3.8/site-packages (from datasets) (0.3.6)\n",
      "Requirement already satisfied: pandas in /usr/local/lib/python3.8/dist-packages (from datasets) (1.5.3)\n",
      "Requirement already satisfied: requests>=2.19.0 in /usr/lib/python3/dist-packages (from datasets) (2.22.0)\n",
      "Requirement already satisfied: tqdm>=4.62.1 in /usr/local/lib/python3.8/dist-packages (from datasets) (4.65.0)\n",
      "Requirement already satisfied: xxhash in /home/users/sdash/.local/lib/python3.8/site-packages (from datasets) (3.2.0)\n",
      "Requirement already satisfied: multiprocess in /home/users/sdash/.local/lib/python3.8/site-packages (from datasets) (0.70.14)\n",
      "Requirement already satisfied: fsspec[http]>=2021.11.1 in /usr/local/lib/python3.8/dist-packages (from datasets) (2023.3.0)\n",
      "Requirement already satisfied: aiohttp in /usr/local/lib/python3.8/dist-packages (from datasets) (3.8.4)\n",
      "Requirement already satisfied: huggingface-hub<1.0.0,>=0.11.0 in /home/users/sdash/.local/lib/python3.8/site-packages (from datasets) (0.16.2)\n",
      "Requirement already satisfied: packaging in /usr/local/lib/python3.8/dist-packages (from datasets) (21.3)\n",
      "Requirement already satisfied: pyyaml>=5.1 in /usr/local/lib/python3.8/dist-packages (from datasets) (6.0)\n",
      "Requirement already satisfied: attrs>=17.3.0 in /usr/local/lib/python3.8/dist-packages (from aiohttp->datasets) (21.4.0)\n",
      "Requirement already satisfied: charset-normalizer<4.0,>=2.0 in /usr/local/lib/python3.8/dist-packages (from aiohttp->datasets) (3.1.0)\n",
      "Requirement already satisfied: multidict<7.0,>=4.5 in /usr/local/lib/python3.8/dist-packages (from aiohttp->datasets) (6.0.4)\n",
      "Requirement already satisfied: async-timeout<5.0,>=4.0.0a3 in /usr/local/lib/python3.8/dist-packages (from aiohttp->datasets) (4.0.2)\n",
      "Requirement already satisfied: yarl<2.0,>=1.0 in /usr/local/lib/python3.8/dist-packages (from aiohttp->datasets) (1.8.2)\n",
      "Requirement already satisfied: frozenlist>=1.1.1 in /usr/local/lib/python3.8/dist-packages (from aiohttp->datasets) (1.3.3)\n",
      "Requirement already satisfied: aiosignal>=1.1.2 in /usr/local/lib/python3.8/dist-packages (from aiohttp->datasets) (1.3.1)\n"
     ]
    },
    {
     "name": "stdout",
     "output_type": "stream",
     "text": [
      "Requirement already satisfied: filelock in /home/users/sdash/.local/lib/python3.8/site-packages (from huggingface-hub<1.0.0,>=0.11.0->datasets) (3.12.2)\n",
      "Requirement already satisfied: typing-extensions>=3.7.4.3 in /home/users/sdash/.local/lib/python3.8/site-packages (from huggingface-hub<1.0.0,>=0.11.0->datasets) (4.7.1)\n",
      "Requirement already satisfied: pyparsing!=3.0.5,>=2.0.2 in /usr/local/lib/python3.8/dist-packages (from packaging->datasets) (3.0.7)\n",
      "Requirement already satisfied: python-dateutil>=2.8.1 in /usr/local/lib/python3.8/dist-packages (from pandas->datasets) (2.8.2)\n",
      "Requirement already satisfied: pytz>=2020.1 in /usr/local/lib/python3.8/dist-packages (from pandas->datasets) (2022.7.1)\n",
      "Requirement already satisfied: six>=1.5 in /usr/lib/python3/dist-packages (from python-dateutil>=2.8.1->pandas->datasets) (1.14.0)\n",
      "Requirement already satisfied: idna>=2.0 in /usr/lib/python3/dist-packages (from yarl<2.0,>=1.0->aiohttp->datasets) (2.8)\n",
      "Defaulting to user installation because normal site-packages is not writeable\n",
      "Requirement already satisfied: evaluate in /home/users/sdash/.local/lib/python3.8/site-packages (0.4.0)\n",
      "Requirement already satisfied: datasets>=2.0.0 in /home/users/sdash/.local/lib/python3.8/site-packages (from evaluate) (2.13.1)\n",
      "Requirement already satisfied: numpy>=1.17 in /usr/local/lib/python3.8/dist-packages (from evaluate) (1.24.2)\n",
      "Requirement already satisfied: dill in /home/users/sdash/.local/lib/python3.8/site-packages (from evaluate) (0.3.6)\n",
      "Requirement already satisfied: pandas in /usr/local/lib/python3.8/dist-packages (from evaluate) (1.5.3)\n",
      "Requirement already satisfied: requests>=2.19.0 in /usr/lib/python3/dist-packages (from evaluate) (2.22.0)\n",
      "Requirement already satisfied: tqdm>=4.62.1 in /usr/local/lib/python3.8/dist-packages (from evaluate) (4.65.0)\n",
      "Requirement already satisfied: xxhash in /home/users/sdash/.local/lib/python3.8/site-packages (from evaluate) (3.2.0)\n",
      "Requirement already satisfied: multiprocess in /home/users/sdash/.local/lib/python3.8/site-packages (from evaluate) (0.70.14)\n",
      "Requirement already satisfied: fsspec[http]>=2021.05.0 in /usr/local/lib/python3.8/dist-packages (from evaluate) (2023.3.0)\n",
      "Requirement already satisfied: huggingface-hub>=0.7.0 in /home/users/sdash/.local/lib/python3.8/site-packages (from evaluate) (0.16.2)\n",
      "Requirement already satisfied: packaging in /usr/local/lib/python3.8/dist-packages (from evaluate) (21.3)\n",
      "Requirement already satisfied: responses<0.19 in /home/users/sdash/.local/lib/python3.8/site-packages (from evaluate) (0.18.0)\n",
      "Requirement already satisfied: pyarrow>=8.0.0 in /home/users/sdash/.local/lib/python3.8/site-packages (from datasets>=2.0.0->evaluate) (12.0.1)\n",
      "Requirement already satisfied: aiohttp in /usr/local/lib/python3.8/dist-packages (from datasets>=2.0.0->evaluate) (3.8.4)\n",
      "Requirement already satisfied: pyyaml>=5.1 in /usr/local/lib/python3.8/dist-packages (from datasets>=2.0.0->evaluate) (6.0)\n",
      "Requirement already satisfied: filelock in /home/users/sdash/.local/lib/python3.8/site-packages (from huggingface-hub>=0.7.0->evaluate) (3.12.2)\n",
      "Requirement already satisfied: typing-extensions>=3.7.4.3 in /home/users/sdash/.local/lib/python3.8/site-packages (from huggingface-hub>=0.7.0->evaluate) (4.7.1)\n",
      "Requirement already satisfied: pyparsing!=3.0.5,>=2.0.2 in /usr/local/lib/python3.8/dist-packages (from packaging->evaluate) (3.0.7)\n",
      "Requirement already satisfied: urllib3>=1.25.10 in /home/users/sdash/.local/lib/python3.8/site-packages (from responses<0.19->evaluate) (2.0.4)\n",
      "Requirement already satisfied: python-dateutil>=2.8.1 in /usr/local/lib/python3.8/dist-packages (from pandas->evaluate) (2.8.2)\n",
      "Requirement already satisfied: pytz>=2020.1 in /usr/local/lib/python3.8/dist-packages (from pandas->evaluate) (2022.7.1)\n",
      "Requirement already satisfied: attrs>=17.3.0 in /usr/local/lib/python3.8/dist-packages (from aiohttp->datasets>=2.0.0->evaluate) (21.4.0)\n",
      "Requirement already satisfied: charset-normalizer<4.0,>=2.0 in /usr/local/lib/python3.8/dist-packages (from aiohttp->datasets>=2.0.0->evaluate) (3.1.0)\n",
      "Requirement already satisfied: multidict<7.0,>=4.5 in /usr/local/lib/python3.8/dist-packages (from aiohttp->datasets>=2.0.0->evaluate) (6.0.4)\n",
      "Requirement already satisfied: async-timeout<5.0,>=4.0.0a3 in /usr/local/lib/python3.8/dist-packages (from aiohttp->datasets>=2.0.0->evaluate) (4.0.2)\n",
      "Requirement already satisfied: yarl<2.0,>=1.0 in /usr/local/lib/python3.8/dist-packages (from aiohttp->datasets>=2.0.0->evaluate) (1.8.2)\n",
      "Requirement already satisfied: frozenlist>=1.1.1 in /usr/local/lib/python3.8/dist-packages (from aiohttp->datasets>=2.0.0->evaluate) (1.3.3)\n",
      "Requirement already satisfied: aiosignal>=1.1.2 in /usr/local/lib/python3.8/dist-packages (from aiohttp->datasets>=2.0.0->evaluate) (1.3.1)\n",
      "Requirement already satisfied: six>=1.5 in /usr/lib/python3/dist-packages (from python-dateutil>=2.8.1->pandas->evaluate) (1.14.0)\n",
      "Requirement already satisfied: idna>=2.0 in /usr/lib/python3/dist-packages (from yarl<2.0,>=1.0->aiohttp->datasets>=2.0.0->evaluate) (2.8)\n",
      "Defaulting to user installation because normal site-packages is not writeable\n",
      "Requirement already satisfied: rouge_score in /home/users/sdash/.local/lib/python3.8/site-packages (0.1.2)\n",
      "Requirement already satisfied: absl-py in /usr/local/lib/python3.8/dist-packages (from rouge_score) (1.4.0)\n",
      "Requirement already satisfied: nltk in /home/users/sdash/.local/lib/python3.8/site-packages (from rouge_score) (3.8.1)\n",
      "Requirement already satisfied: numpy in /usr/local/lib/python3.8/dist-packages (from rouge_score) (1.24.2)\n",
      "Requirement already satisfied: six>=1.14.0 in /usr/lib/python3/dist-packages (from rouge_score) (1.14.0)\n",
      "Requirement already satisfied: click in /usr/local/lib/python3.8/dist-packages (from nltk->rouge_score) (8.0.3)\n",
      "Requirement already satisfied: joblib in /usr/local/lib/python3.8/dist-packages (from nltk->rouge_score) (1.2.0)\n",
      "Requirement already satisfied: regex>=2021.8.3 in /home/users/sdash/.local/lib/python3.8/site-packages (from nltk->rouge_score) (2023.6.3)\n",
      "Requirement already satisfied: tqdm in /usr/local/lib/python3.8/dist-packages (from nltk->rouge_score) (4.65.0)\n"
     ]
    }
   ],
   "source": [
    "!pip install transformers\n",
    "!pip install sentencepiece\n",
    "!pip install accelerate\n",
    "!pip install salesforce-lavis\n",
    "!pip install datasets\n",
    "!pip install evaluate\n",
    "!pip install rouge_score"
   ]
  },
  {
   "cell_type": "code",
   "execution_count": 63,
   "id": "383d52b5",
   "metadata": {},
   "outputs": [],
   "source": [
    "import pandas as pd\n",
    "import numpy as np\n",
    "import random\n",
    "from PIL import Image\n",
    "import torch\n",
    "from lavis.models import load_model_and_preprocess\n",
    "from transformers import T5Tokenizer, T5ForConditionalGeneration\n",
    "import evaluate\n",
    "import matplotlib.pyplot as plt\n",
    "from tqdm import tqdm"
   ]
  },
  {
   "cell_type": "code",
   "execution_count": 2,
   "id": "ad09ecaf",
   "metadata": {},
   "outputs": [],
   "source": [
    "file_path_questions = \"data/questions/v2_OpenEnded_mscoco_train2014_questions.json\"\n",
    "file_path_answers = \"data/answers/v2_mscoco_train2014_annotations.json\"\n",
    "file_path_explain = \"data/VQA-X/train_exp_anno.json\"\n",
    "\n",
    "def load_dataset(file_path_questions, file_path_answers, file_path_explain):\n",
    "    \n",
    "    df_questions = pd.read_json(file_path_questions, lines=True)\n",
    "    df_answers = pd.read_json(file_path_answers, lines=True)\n",
    "    df_explain = pd.read_json(file_path_explain, lines=True)\n",
    "    \n",
    "    df_explain = df_explain.transpose().copy()\n",
    "    df_explain.reset_index(inplace = True)\n",
    "    df_explain.rename(columns = {\"index\": \"question_id\",0:\"explainations\"}, inplace = True)\n",
    "    df_explain[\"explainations\"] = df_explain.apply(lambda row: row[\"explainations\"][0], axis = 1)\n",
    "    \n",
    "    return df_questions, df_answers, df_explain\n",
    "\n",
    "def make_final_questions_df(df_questions):\n",
    "    \n",
    "    df_question = df_questions['questions'].iloc[0].copy()\n",
    "    \n",
    "    image_id = []\n",
    "    question = []\n",
    "    question_id = []\n",
    "    for i in df_question:\n",
    "        x = list(i.values())\n",
    "        image_id.append(x[0])\n",
    "        question.append(x[1])\n",
    "        question_id.append(x[2])\n",
    "        \n",
    "    df_question = pd.DataFrame({\n",
    "        \"image_id\": image_id,\n",
    "        \"question\": question,\n",
    "        \"question_id\": question_id\n",
    "    })\n",
    "    \n",
    "    return df_question\n",
    "\n",
    "def make_final_answers_df(df_answers):\n",
    "    \n",
    "    df_answers = df_answers['annotations'].iloc[0]\n",
    "    \n",
    "    image_id = []\n",
    "    answer = []\n",
    "    question_id = []\n",
    "    question_type = []\n",
    "    for i in df_answers:\n",
    "        x = list(i.values())\n",
    "        image_id.append(x[3])\n",
    "        question_type.append(x[0])\n",
    "        answer.append(x[1])\n",
    "        question_id.append(x[5])\n",
    "        \n",
    "    df_answer = pd.DataFrame({\n",
    "        \"image_id\": image_id,\n",
    "        \"question_type\": question_type,\n",
    "        \"question_id\": question_id,\n",
    "        \"answer\": answer\n",
    "    })\n",
    "    \n",
    "    return df_answer\n",
    "\n",
    "\n",
    "\n",
    "df_questions, df_answers, df_explain = load_dataset(file_path_questions, file_path_answers, file_path_explain)\n",
    "df_question = make_final_questions_df(df_questions)\n",
    "df_answer= make_final_answers_df(df_answers)"
   ]
  },
  {
   "cell_type": "markdown",
   "id": "a963f233",
   "metadata": {},
   "source": [
    "This gives us question, answer and explain df"
   ]
  },
  {
   "cell_type": "code",
   "execution_count": 3,
   "id": "751fe95c",
   "metadata": {},
   "outputs": [],
   "source": [
    "num_samples = 100\n",
    "\n",
    "def make_final_df(df_question,df_answer,df_explain):\n",
    "    \n",
    "    final_df = pd.merge(pd.merge(df_question, df_answer, how = \"outer\", on = \"question_id\"), \n",
    "                        df_explain, how = \"outer\", on = \"question_id\").dropna(axis = 0)\n",
    "    final_df.drop(columns = [\"image_id_y\"])\n",
    "    final_df.rename(columns = {\"image_id_x\": \"image_id\"}, inplace = True)\n",
    "    \n",
    "    return final_df\n",
    "\n",
    "def select_sample_dataset(num_samples, final_df):\n",
    "    \n",
    "    random_samples = final_df.sample(n=num_samples, random_state=42)\n",
    "    random_samples_df = pd.DataFrame(random_samples)\n",
    "    \n",
    "    return random_samples_df\n",
    "\n",
    "def save_file(file_name,df):\n",
    "    df.to_csv(file_name)\n",
    "    \n",
    "final_df = make_final_df(df_question,df_answer,df_explain)\n",
    "df = select_sample_dataset(num_samples, final_df)\n",
    "save_file('final_dataset',df)"
   ]
  },
  {
   "cell_type": "code",
   "execution_count": 4,
   "id": "0c6df075",
   "metadata": {},
   "outputs": [],
   "source": [
    "def find_image_list(df):\n",
    "    \n",
    "    image_list = []\n",
    "    for index, rows in df.iterrows():\n",
    "        string = \"data/images/train2014/COCO_train2014_\"+\"\".join([str(0)]*(12 - len(str(rows[\"image_id\"]))))+str(rows[\"image_id\"])+\".jpg\"\n",
    "        Image_data = Image.open(string).convert(\"RGB\")\n",
    "        image_list.append(Image_data)\n",
    "        \n",
    "    return image_list\n"
   ]
  },
  {
   "cell_type": "code",
   "execution_count": null,
   "id": "a7cf3c8c",
   "metadata": {},
   "outputs": [],
   "source": []
  },
  {
   "cell_type": "code",
   "execution_count": 36,
   "id": "4f4ab7bb",
   "metadata": {},
   "outputs": [],
   "source": [
    "def load_blip_2(name=\"blip2_t5\", model_type=\"caption_coco_flant5xl\"):\n",
    "    \n",
    "    model, vis_processors, _ = load_model_and_preprocess(\n",
    "        name=\"blip2_t5\", model_type=\"caption_coco_flant5xl\", is_eval=True)\n",
    "    \n",
    "    return model, vis_processors\n",
    "\n",
    "\n",
    "def generate_captions(model, vis_processors, df):\n",
    "\n",
    "    image_list = find_image_list(df)\n",
    "    df[\"image\"] = image_list\n",
    "    captions = []\n",
    "\n",
    "    for i in tqdm(range(len(df))):\n",
    "        image = vis_processors[\"eval\"](df[\"image\"].iloc[i]).unsqueeze(0)\n",
    "        x = model.generate({\"image\": image, \"prompt\": \"Give Caption for this Image along with details on objects specifie\"})\n",
    "        captions.append(x)\n",
    "        \n",
    "    df.drop(columns = [\"image\",\"image_id_y\"], inplace = True)\n",
    "    df[\"captions_BLIP\"] = captions\n",
    "    \n",
    "    return df\n",
    "\n",
    "def load_flan_model():\n",
    "    \n",
    "    tokenizer = T5Tokenizer.from_pretrained(\"google/flan-t5-xxl\")\n",
    "    model = T5ForConditionalGeneration.from_pretrained(\"google/flan-t5-xxl\", device_map=\"auto\")\n",
    "    \n",
    "    return tokenizer,model\n",
    "\n",
    "def find_flan_output_answers(model, tokenizer, df):\n",
    "\n",
    "\n",
    "    answer_flan = []\n",
    "\n",
    "    for idx in tqdm(range(len(df))):\n",
    "        prompt = f\"\"\"Given the caption, provide an answer for the question provided below.\n",
    "                Question: '''{df[\"question\"].iloc[idx]}'''\n",
    "                Caption: '''{df[\"captions_BLIP\"].iloc[idx]}'''\n",
    "             \"\"\"\n",
    "        input_ids = tokenizer(prompt, return_tensors=\"pt\").input_ids\n",
    "        outputs = model.generate(input_ids)\n",
    "        answer_flan.append(tokenizer.decode(outputs[0]))\n",
    "        \n",
    "    cleaned_flan_answers = [sentence.replace(\"<pad>\", \"\").replace(\"</s>\", \"\") for sentence in answer_flan]\n",
    "        \n",
    "    df[\"answer_flan\"] = cleaned_flan_answers\n",
    "    \n",
    "    return df\n",
    "\n",
    "#this is explanations based on actual answers\n",
    "def find_flan_output_explainations(model, tokenizer, df):\n",
    "    \n",
    "    explain_flan = []\n",
    "\n",
    "    for idx in tqdm(range(len(df))):\n",
    "        prompt = f\"\"\"Based on the following data provided, answer the following question: \"Why is that? Give an explanation/rationale for the answer provided.\"\n",
    "                Question: '''{df[\"question\"].iloc[idx]}'''\n",
    "                Answer: '''{df[\"answer\"].iloc[idx]}'''\n",
    "                Caption: '''{df[\"captions_BLIP\"].iloc[idx]}'''\n",
    "             \"\"\"\n",
    "        input_ids = tokenizer(prompt, return_tensors=\"pt\").input_ids\n",
    "        outputs = model.generate(input_ids)\n",
    "        explain_flan.append(tokenizer.decode(outputs[0]))\n",
    "        \n",
    "    cleaned_flan_explain = [sentence.replace(\"<pad>\", \"\").replace(\"</s>\", \"\") for sentence in explain_flan]\n",
    "\n",
    "    df[\"explain_flan\"] = cleaned_flan_explain\n",
    "    \n",
    "    return df\n",
    "\n",
    "#this is explanations based on generated answers\n",
    "def find_flan_output_explainations_gen(model, tokenizer, df):\n",
    "    \n",
    "    explain_flan = []\n",
    "\n",
    "    for idx in tqdm(range(len(df))):\n",
    "        prompt = f\"\"\"Based on the following data provided, answer the following question: \"Why is that? Give an explanation/rationale for the answer provided.\"\n",
    "                Question: '''{df[\"question\"].iloc[idx]}'''\n",
    "                Answer: '''{df[\"answer_flan\"].iloc[idx]}'''\n",
    "                Caption: '''{df[\"captions_BLIP\"].iloc[idx]}'''\n",
    "             \"\"\"\n",
    "        input_ids = tokenizer(prompt, return_tensors=\"pt\").input_ids\n",
    "        outputs = model.generate(input_ids)\n",
    "        explain_flan.append(tokenizer.decode(outputs[0]))\n",
    "        \n",
    "    cleaned_flan_explain = [sentence.replace(\"<pad>\", \"\").replace(\"</s>\", \"\") for sentence in explain_flan]\n",
    "\n",
    "    df[\"explain_flan_gen\"] = cleaned_flan_explain\n",
    "    \n",
    "    return df"
   ]
  },
  {
   "cell_type": "code",
   "execution_count": null,
   "id": "d3350514",
   "metadata": {},
   "outputs": [],
   "source": [
    "model_blip, vis_processors = load_blip_2(name=\"blip2_t5\", model_type=\"caption_coco_flant5xl\")\n",
    "df = generate_captions(model_blip, vis_processors, df)"
   ]
  },
  {
   "cell_type": "code",
   "execution_count": 16,
   "id": "36548a61",
   "metadata": {},
   "outputs": [],
   "source": [
    "df.drop(columns = [\"image\",\"image_id_y\"], inplace = True)"
   ]
  },
  {
   "cell_type": "code",
   "execution_count": null,
   "id": "287f5e46",
   "metadata": {},
   "outputs": [],
   "source": [
    "tokenizer, model_flan = load_flan_model()\n",
    "df = find_flan_output_answers(model_flan, tokenizer, df)"
   ]
  },
  {
   "cell_type": "code",
   "execution_count": 14,
   "id": "6b8c6e1f",
   "metadata": {},
   "outputs": [
    {
     "name": "stderr",
     "output_type": "stream",
     "text": [
      "  0%|          | 0/100 [00:00<?, ?it/s]/home/users/sdash/.local/lib/python3.8/site-packages/transformers/generation/utils.py:1273: UserWarning: Neither `max_length` nor `max_new_tokens` has been set, `max_length` will default to 20 (`generation_config.max_length`). Controlling `max_length` via the config is deprecated and `max_length` will be removed from the config in v5 of Transformers -- we recommend using `max_new_tokens` to control the maximum length of the generation.\n",
      "  warnings.warn(\n",
      "/home/users/sdash/.local/lib/python3.8/site-packages/transformers/generation/utils.py:1359: UserWarning: You are calling .generate() with the `input_ids` being on a device type different than your model's device. `input_ids` is on cpu, whereas the model is on cuda. You may experience unexpected behaviors or slower generation. Please make sure that you have put `input_ids` to the correct device by calling for example input_ids = input_ids.to('cuda') before running `.generate()`.\n",
      "  warnings.warn(\n",
      "100%|██████████| 100/100 [1:23:06<00:00, 49.86s/it]\n"
     ]
    }
   ],
   "source": [
    "df = find_flan_output_explainations(model_flan, tokenizer, df)"
   ]
  },
  {
   "cell_type": "code",
   "execution_count": 37,
   "id": "fa746483",
   "metadata": {},
   "outputs": [
    {
     "name": "stderr",
     "output_type": "stream",
     "text": [
      "  0%|          | 0/100 [00:00<?, ?it/s]/home/users/sdash/.local/lib/python3.8/site-packages/transformers/generation/utils.py:1273: UserWarning: Neither `max_length` nor `max_new_tokens` has been set, `max_length` will default to 20 (`generation_config.max_length`). Controlling `max_length` via the config is deprecated and `max_length` will be removed from the config in v5 of Transformers -- we recommend using `max_new_tokens` to control the maximum length of the generation.\n",
      "  warnings.warn(\n",
      "/home/users/sdash/.local/lib/python3.8/site-packages/transformers/generation/utils.py:1359: UserWarning: You are calling .generate() with the `input_ids` being on a device type different than your model's device. `input_ids` is on cpu, whereas the model is on cuda. You may experience unexpected behaviors or slower generation. Please make sure that you have put `input_ids` to the correct device by calling for example input_ids = input_ids.to('cuda') before running `.generate()`.\n",
      "  warnings.warn(\n",
      "100%|██████████| 100/100 [1:23:30<00:00, 50.10s/it]\n"
     ]
    }
   ],
   "source": [
    "df = find_flan_output_explainations_gen(model_flan, tokenizer, df)"
   ]
  },
  {
   "cell_type": "code",
   "execution_count": 22,
   "id": "6510fb20",
   "metadata": {},
   "outputs": [],
   "source": [
    "def convert_to_string(lst):\n",
    "    return ' '.join(lst)\n",
    "\n",
    "df['captions_BLIP'] = df['captions_BLIP'].apply(convert_to_string)"
   ]
  },
  {
   "cell_type": "code",
   "execution_count": 24,
   "id": "e6afc719",
   "metadata": {},
   "outputs": [],
   "source": [
    "save_file('final_dataset.csv',df)"
   ]
  },
  {
   "cell_type": "code",
   "execution_count": 30,
   "id": "30a86bb9",
   "metadata": {},
   "outputs": [],
   "source": [
    "def metric_computation(prediction, references, metric):\n",
    "    \n",
    "    metric = evaluate.load(metric)\n",
    "    result = metric.compute(predictions=prediction,\n",
    "                         references=references)\n",
    "    \n",
    "    return result"
   ]
  },
  {
   "cell_type": "code",
   "execution_count": 56,
   "id": "5b1fa221",
   "metadata": {},
   "outputs": [],
   "source": [
    "meteor = []\n",
    "rouge = {}"
   ]
  },
  {
   "cell_type": "code",
   "execution_count": 57,
   "id": "b2b58252",
   "metadata": {},
   "outputs": [
    {
     "name": "stderr",
     "output_type": "stream",
     "text": [
      "[nltk_data] Downloading package wordnet to\n",
      "[nltk_data]     /home/users/sdash/nltk_data...\n",
      "[nltk_data]   Package wordnet is already up-to-date!\n",
      "[nltk_data] Downloading package punkt to\n",
      "[nltk_data]     /home/users/sdash/nltk_data...\n",
      "[nltk_data]   Package punkt is already up-to-date!\n",
      "[nltk_data] Downloading package omw-1.4 to\n",
      "[nltk_data]     /home/users/sdash/nltk_data...\n",
      "[nltk_data]   Package omw-1.4 is already up-to-date!\n"
     ]
    },
    {
     "name": "stdout",
     "output_type": "stream",
     "text": [
      "The METEOR and ROUGE scores for the answer prediction model\n",
      "METEOR score: 0.3657103313353314\n",
      "ROUGE score: [0.7033333333333333, 0.01, 0.7066666666666666, 0.7086666666666668]\n"
     ]
    }
   ],
   "source": [
    "references = list(df[\"answer\"])\n",
    "prediction = list(df[\"answer_flan\"])\n",
    "\n",
    "meteor_score = metric_computation(prediction, references, metric = 'meteor')[\"meteor\"]\n",
    "rouge_score = list(metric_computation(prediction, references, metric = 'rouge').values())\n",
    "\n",
    "meteor.append(meteor_score)\n",
    "rouge[\"answer_flan\"] = rouge_score\n",
    "\n",
    "print(\"The METEOR and ROUGE scores for the answer prediction model\")\n",
    "print(\"METEOR score:\", meteor_score)\n",
    "print(\"ROUGE score:\", rouge_score)"
   ]
  },
  {
   "cell_type": "code",
   "execution_count": 58,
   "id": "463fb457",
   "metadata": {},
   "outputs": [
    {
     "name": "stderr",
     "output_type": "stream",
     "text": [
      "[nltk_data] Downloading package wordnet to\n",
      "[nltk_data]     /home/users/sdash/nltk_data...\n",
      "[nltk_data]   Package wordnet is already up-to-date!\n",
      "[nltk_data] Downloading package punkt to\n",
      "[nltk_data]     /home/users/sdash/nltk_data...\n",
      "[nltk_data]   Package punkt is already up-to-date!\n",
      "[nltk_data] Downloading package omw-1.4 to\n",
      "[nltk_data]     /home/users/sdash/nltk_data...\n",
      "[nltk_data]   Package omw-1.4 is already up-to-date!\n"
     ]
    },
    {
     "name": "stdout",
     "output_type": "stream",
     "text": [
      "The METEOR and ROUGE scores for the explanation prediction model \n",
      "where ground truth answers where used to generate explnanation.\n",
      "METEOR score: 0.20356683700192124\n",
      "ROUGE score: [0.22674923675003583, 0.05448260837889321, 0.20541505519327224, 0.20410243543510964]\n"
     ]
    }
   ],
   "source": [
    "references = list(df[\"explainations\"])\n",
    "prediction = list(df[\"explain_flan\"])\n",
    "\n",
    "meteor_score = metric_computation(prediction, references, metric = 'meteor')[\"meteor\"]\n",
    "rouge_score = list(metric_computation(prediction, references, metric = 'rouge').values())\n",
    "\n",
    "meteor.append(meteor_score)\n",
    "rouge[\"explain_flan\"] = rouge_score\n",
    "\n",
    "print(\"\"\"The METEOR and ROUGE scores for the explanation prediction model \n",
    "where ground truth answers where used to generate explnanation.\"\"\")\n",
    "print(\"METEOR score:\", meteor_score)\n",
    "print(\"ROUGE score:\", rouge_score)"
   ]
  },
  {
   "cell_type": "code",
   "execution_count": 59,
   "id": "2c446d82",
   "metadata": {},
   "outputs": [
    {
     "name": "stderr",
     "output_type": "stream",
     "text": [
      "[nltk_data] Downloading package wordnet to\n",
      "[nltk_data]     /home/users/sdash/nltk_data...\n",
      "[nltk_data]   Package wordnet is already up-to-date!\n",
      "[nltk_data] Downloading package punkt to\n",
      "[nltk_data]     /home/users/sdash/nltk_data...\n",
      "[nltk_data]   Package punkt is already up-to-date!\n",
      "[nltk_data] Downloading package omw-1.4 to\n",
      "[nltk_data]     /home/users/sdash/nltk_data...\n",
      "[nltk_data]   Package omw-1.4 is already up-to-date!\n"
     ]
    },
    {
     "name": "stdout",
     "output_type": "stream",
     "text": [
      "The METEOR and ROUGE scores for the explanation prediction model\n",
      "where answers from flan_xxl model where used to generate explnanation\n",
      "METEOR score: 0.21048486233496252\n",
      "ROUGE score: [0.23388098006374347, 0.05361453586832844, 0.21123889250883116, 0.21105928809428592]\n"
     ]
    }
   ],
   "source": [
    "references = list(df[\"explainations\"])\n",
    "prediction = list(df[\"explain_flan_gen\"])\n",
    "\n",
    "meteor_score = metric_computation(prediction, references, metric = 'meteor')[\"meteor\"]\n",
    "rouge_score = list(metric_computation(prediction, references, metric = 'rouge').values())\n",
    "\n",
    "meteor.append(meteor_score)\n",
    "rouge[\"explain_flan_gen\"] = rouge_score\n",
    "\n",
    "print(\"\"\"The METEOR and ROUGE scores for the explanation prediction model\n",
    "where answers from flan_xxl model where used to generate explnanation\"\"\")\n",
    "print(\"METEOR score:\", meteor_score)\n",
    "print(\"ROUGE score:\", rouge_score)"
   ]
  },
  {
   "cell_type": "code",
   "execution_count": 40,
   "id": "312cc877",
   "metadata": {},
   "outputs": [],
   "source": [
    "save_file('final_dataset_with_gen.csv',df)"
   ]
  },
  {
   "cell_type": "code",
   "execution_count": 64,
   "id": "13b1fdb7",
   "metadata": {},
   "outputs": [
    {
     "data": {
      "text/plain": [
       "Text(0.5, 1.0, 'Meteor scores hist plot')"
      ]
     },
     "execution_count": 64,
     "metadata": {},
     "output_type": "execute_result"
    },
    {
     "data": {
      "image/png": "[encoded data removed]",
      "text/plain": [
       "<Figure size 432x288 with 1 Axes>"
      ]
     },
     "metadata": {
      "needs_background": "light"
     },
     "output_type": "display_data"
    }
   ],
   "source": [
    "columns = [\"answer_flan\", \"explain_flan\",\"explain_flan_gen\"]\n",
    "\n",
    "plt.bar(columns, meteor)\n",
    "plt.xlabel(\"Generated output columns from FLAN\")\n",
    "plt.ylabel(\"Meteor scores\")\n",
    "plt.title(\"Meteor scores hist plot\")"
   ]
  },
  {
   "cell_type": "code",
   "execution_count": 83,
   "id": "caa3b24b",
   "metadata": {},
   "outputs": [
    {
     "data": {
      "text/plain": [
       "Text(0.5, 1.0, 'Meteor scores hist plot')"
      ]
     },
     "execution_count": 83,
     "metadata": {},
     "output_type": "execute_result"
    },
    {
     "data": {
      "image/png": "[encoded data removed]",
      "text/plain": [
       "<Figure size 432x288 with 1 Axes>"
      ]
     },
     "metadata": {
      "needs_background": "light"
     },
     "output_type": "display_data"
    }
   ],
   "source": [
    "columns = [\"answer_flan\", \"explain_flan\",\"explain_flan_gen\"]\n",
    "rouge_ = []\n",
    "for i in range(len(list(rouge.values()))):\n",
    "    rouge_.append(list(rouge.values())[i][2])\n",
    "plt.bar(columns, rouge_)\n",
    "plt.xlabel(\"Generated output columns from FLAN\")\n",
    "plt.ylabel(\"Meteor scores\")\n",
    "plt.title(\"Meteor scores hist plot\")"
   ]
  },
  {
   "cell_type": "code",
   "execution_count": null,
   "id": "9a73bcda",
   "metadata": {},
   "outputs": [],
   "source": []
  }
 ],
 "metadata": {
  "kernelspec": {
   "display_name": "Python 3 (ipykernel)",
   "language": "python",
   "name": "python3"
  },
  "language_info": {
   "codemirror_mode": {
    "name": "ipython",
    "version": 3
   },
   "file_extension": ".py",
   "mimetype": "text/x-python",
   "name": "python",
   "nbconvert_exporter": "python",
   "pygments_lexer": "ipython3",
   "version": "3.10.9"
  }
 },
 "nbformat": 4,
 "nbformat_minor": 5
}
